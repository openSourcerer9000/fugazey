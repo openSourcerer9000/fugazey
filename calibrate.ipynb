{
 "cells": [
  {
   "cell_type": "code",
   "execution_count": 29,
   "metadata": {},
   "outputs": [
    {
     "data": {
      "text/plain": [
       "(1080, 1920, 3)"
      ]
     },
     "execution_count": 29,
     "metadata": {},
     "output_type": "execute_result"
    }
   ],
   "source": [
    "import cv2\n",
    "# from matplotlib import pyplot as plt\n",
    "cap = cv2.VideoCapture(0, cv2.CAP_DSHOW) # this is the magic!\n",
    "\n",
    "resx,resy = 1920,1080\n",
    "cap.set(cv2.CAP_PROP_FRAME_WIDTH, resx )\n",
    "cap.set(cv2.CAP_PROP_FRAME_HEIGHT, resy)\n",
    "\n",
    "r, frame = cap.read()\n",
    "frame.shape"
   ]
  },
  {
   "cell_type": "code",
   "execution_count": 30,
   "metadata": {},
   "outputs": [],
   "source": [
    "cap.release()"
   ]
  },
  {
   "cell_type": "code",
   "execution_count": 9,
   "metadata": {},
   "outputs": [],
   "source": [
    "xcenter=int(resx/2)\n",
    "ycenter=660\n",
    "yoffset = 325\n",
    "xoffset = 450"
   ]
  },
  {
   "cell_type": "code",
   "execution_count": 14,
   "metadata": {},
   "outputs": [
    {
     "ename": "",
     "evalue": "",
     "output_type": "error",
     "traceback": [
      "\u001b[1;31mThe Kernel crashed while executing code in the the current cell or a previous cell. Please review the code in the cell(s) to identify a possible cause of the failure. Click <a href='https://aka.ms/vscodeJupyterKernelCrash'>here</a> for more info. View Jupyter <a href='command:jupyter.viewOutput'>log</a> for further details."
     ]
    }
   ],
   "source": [
    "cv2.imshow('crop',frame[ycenter-yoffset:ycenter+yoffset,xcenter-xoffset:xcenter+xoffset])"
   ]
  },
  {
   "cell_type": "code",
   "execution_count": 31,
   "metadata": {},
   "outputs": [],
   "source": [
    "cv2.imshow('adsf',frame)"
   ]
  },
  {
   "cell_type": "code",
   "execution_count": 32,
   "metadata": {},
   "outputs": [
    {
     "ename": "error",
     "evalue": "OpenCV(3.4.9) ..\\modules\\imgproc\\src\\color.cpp:182: error: (-215:Assertion failed) !_src.empty() in function 'cv::cvtColor'\n",
     "output_type": "error",
     "traceback": [
      "\u001b[1;31m---------------------------------------------------------------------------\u001b[0m",
      "\u001b[1;31merror\u001b[0m                                     Traceback (most recent call last)",
      "\u001b[1;32m~\\AppData\\Local\\Temp\\ipykernel_16312\\725545669.py\u001b[0m in \u001b[0;36m<module>\u001b[1;34m\u001b[0m\n\u001b[0;32m      2\u001b[0m \u001b[1;33m\u001b[0m\u001b[0m\n\u001b[0;32m      3\u001b[0m \u001b[0mimg\u001b[0m \u001b[1;33m=\u001b[0m \u001b[0mcv2\u001b[0m\u001b[1;33m.\u001b[0m\u001b[0mimread\u001b[0m\u001b[1;33m(\u001b[0m\u001b[1;34m'/Users/mustafa/test.jpg'\u001b[0m\u001b[1;33m)\u001b[0m\u001b[1;33m\u001b[0m\u001b[1;33m\u001b[0m\u001b[0m\n\u001b[1;32m----> 4\u001b[1;33m \u001b[0mgray\u001b[0m \u001b[1;33m=\u001b[0m \u001b[0mcv2\u001b[0m\u001b[1;33m.\u001b[0m\u001b[0mcvtColor\u001b[0m\u001b[1;33m(\u001b[0m\u001b[0mimg\u001b[0m\u001b[1;33m,\u001b[0m \u001b[0mcv2\u001b[0m\u001b[1;33m.\u001b[0m\u001b[0mCOLOR_BGR2GRAY\u001b[0m\u001b[1;33m)\u001b[0m\u001b[1;33m\u001b[0m\u001b[1;33m\u001b[0m\u001b[0m\n\u001b[0m\u001b[0;32m      5\u001b[0m \u001b[1;33m\u001b[0m\u001b[0m\n\u001b[0;32m      6\u001b[0m \u001b[0mplt\u001b[0m\u001b[1;33m.\u001b[0m\u001b[0mimshow\u001b[0m\u001b[1;33m(\u001b[0m\u001b[0mgray\u001b[0m\u001b[1;33m)\u001b[0m\u001b[1;33m\u001b[0m\u001b[1;33m\u001b[0m\u001b[0m\n",
      "\u001b[1;31merror\u001b[0m: OpenCV(3.4.9) ..\\modules\\imgproc\\src\\color.cpp:182: error: (-215:Assertion failed) !_src.empty() in function 'cv::cvtColor'\n"
     ]
    }
   ],
   "source": [
    "\n",
    "import cv2\n",
    "\n",
    "img = cv2.imread('/Users/mustafa/test.jpg')\n",
    "gray = cv2.cvtColor(img, cv2.COLOR_BGR2GRAY)\n",
    "\n",
    "plt.imshow(gray)"
   ]
  },
  {
   "cell_type": "code",
   "execution_count": 33,
   "metadata": {},
   "outputs": [],
   "source": [
    "import numpy as np"
   ]
  },
  {
   "cell_type": "code",
   "execution_count": 5,
   "metadata": {},
   "outputs": [
    {
     "data": {
      "text/plain": [
       "array([   0.        ,   37.24137931,   74.48275862,  111.72413793,\n",
       "        148.96551724,  186.20689655,  223.44827586,  260.68965517,\n",
       "        297.93103448,  335.17241379,  372.4137931 ,  409.65517241,\n",
       "        446.89655172,  484.13793103,  521.37931034,  558.62068966,\n",
       "        595.86206897,  633.10344828,  670.34482759,  707.5862069 ,\n",
       "        744.82758621,  782.06896552,  819.31034483,  856.55172414,\n",
       "        893.79310345,  931.03448276,  968.27586207, 1005.51724138,\n",
       "       1042.75862069, 1080.        ])"
      ]
     },
     "execution_count": 5,
     "metadata": {},
     "output_type": "execute_result"
    }
   ],
   "source": [
    "resy = 1080\n",
    "np.linspace(0,resy,30)"
   ]
  },
  {
   "cell_type": "code",
   "execution_count": 8,
   "metadata": {},
   "outputs": [
    {
     "data": {
      "text/plain": [
       "37.241379310344826"
      ]
     },
     "execution_count": 8,
     "metadata": {},
     "output_type": "execute_result"
    }
   ],
   "source": [
    "1080/29"
   ]
  },
  {
   "cell_type": "code",
   "execution_count": 10,
   "metadata": {},
   "outputs": [
    {
     "data": {
      "text/plain": [
       "[4, 3, 2, 1, 0]"
      ]
     },
     "execution_count": 10,
     "metadata": {},
     "output_type": "execute_result"
    }
   ],
   "source": [
    "list(range(5)[::-1])"
   ]
  },
  {
   "cell_type": "code",
   "execution_count": 12,
   "metadata": {},
   "outputs": [
    {
     "data": {
      "text/plain": [
       "0.0"
      ]
     },
     "execution_count": 12,
     "metadata": {},
     "output_type": "execute_result"
    }
   ],
   "source": [
    "float(False)"
   ]
  },
  {
   "cell_type": "code",
   "execution_count": 16,
   "metadata": {},
   "outputs": [
    {
     "ename": "ModuleNotFoundError",
     "evalue": "No module named 'funkshuns'",
     "output_type": "error",
     "traceback": [
      "\u001b[1;31m---------------------------------------------------------------------------\u001b[0m",
      "\u001b[1;31mModuleNotFoundError\u001b[0m                       Traceback (most recent call last)",
      "\u001b[1;32m~\\AppData\\Local\\Temp\\ipykernel_16312\\3775196884.py\u001b[0m in \u001b[0;36m<module>\u001b[1;34m\u001b[0m\n\u001b[1;32m----> 1\u001b[1;33m \u001b[1;32mfrom\u001b[0m \u001b[0mfunkshuns\u001b[0m \u001b[1;32mimport\u001b[0m \u001b[1;33m*\u001b[0m\u001b[1;33m\u001b[0m\u001b[1;33m\u001b[0m\u001b[0m\n\u001b[0m\u001b[0;32m      2\u001b[0m flattenList(\n\u001b[0;32m      3\u001b[0m     \u001b[1;33m[\u001b[0m\u001b[1;33m[\u001b[0m\u001b[0ma\u001b[0m\u001b[1;33m,\u001b[0m\u001b[0ma\u001b[0m\u001b[1;33m+\u001b[0m\u001b[1;36m10\u001b[0m \u001b[1;33m]\u001b[0m\u001b[1;32mfor\u001b[0m \u001b[0ma\u001b[0m \u001b[1;32min\u001b[0m \u001b[0mrange\u001b[0m\u001b[1;33m(\u001b[0m\u001b[1;36m2\u001b[0m\u001b[1;33m)\u001b[0m\u001b[1;33m]\u001b[0m\u001b[1;33m\u001b[0m\u001b[1;33m\u001b[0m\u001b[0m\n\u001b[0;32m      4\u001b[0m )\n",
      "\u001b[1;31mModuleNotFoundError\u001b[0m: No module named 'funkshuns'"
     ]
    }
   ],
   "source": [
    "from funkshuns import *\n",
    "flattenList(\n",
    "    [[a,a+10 ]for a in range(2)]\n",
    ")"
   ]
  },
  {
   "cell_type": "code",
   "execution_count": 18,
   "metadata": {},
   "outputs": [],
   "source": [
    "from __future__ import division\n",
    "import os\n",
    "import cv2\n",
    "import dlib\n",
    "# from .eye import Eye\n",
    "# from .calibration import Calibration"
   ]
  },
  {
   "cell_type": "code",
   "execution_count": null,
   "metadata": {},
   "outputs": [],
   "source": []
  },
  {
   "cell_type": "code",
   "execution_count": 34,
   "metadata": {},
   "outputs": [],
   "source": [
    "frame = cv2.cvtColor(frame, cv2.COLOR_BGR2GRAY)"
   ]
  },
  {
   "cell_type": "code",
   "execution_count": 35,
   "metadata": {},
   "outputs": [
    {
     "data": {
      "text/plain": [
       "(1080, 1920)"
      ]
     },
     "execution_count": 35,
     "metadata": {},
     "output_type": "execute_result"
    }
   ],
   "source": [
    "frame.shape"
   ]
  },
  {
   "cell_type": "code",
   "execution_count": 36,
   "metadata": {},
   "outputs": [],
   "source": [
    "# from __future__ import division\n",
    "# import os\n",
    "# import cv2\n",
    "# import dlib\n",
    "# from .eye import Eye\n",
    "# from .calibration import Calibration\n",
    "\n",
    "\n",
    "\n",
    "# _face_detector is used to detect faces\n",
    "_face_detector = dlib.get_frontal_face_detector()\n",
    "\n",
    "# _predictor is used to get facial landmarks of a given face\n",
    "# cwd = os.path.abspath(os.path.dirname(__file__))\n",
    "# model_path = os.path.abspath(os.path.join(cwd, \"trained_models/shape_predictor_68_face_landmarks.dat\"))\n",
    "model_path=r'C:\\app\\GazeTracking\\gaze_tracking\\trained_models\\shape_predictor_68_face_landmarks.dat'\n",
    "_predictor = dlib.shape_predictor(model_path)\n",
    "\n",
    "faces = _face_detector(frame)\n",
    "\n",
    "if len(faces):\n",
    "    landmarks = _predictor(frame, faces[0])"
   ]
  },
  {
   "cell_type": "code",
   "execution_count": 45,
   "metadata": {},
   "outputs": [
    {
     "data": {
      "text/plain": [
       "array([[0, 1]])"
      ]
     },
     "execution_count": 45,
     "metadata": {},
     "output_type": "execute_result"
    }
   ],
   "source": [
    "pupl = [0,1]\n",
    "np.array(pupl).reshape(2,1).T"
   ]
  },
  {
   "cell_type": "code",
   "execution_count": 46,
   "metadata": {},
   "outputs": [
    {
     "data": {
      "text/plain": [
       "array([[0, 1, 2],\n",
       "       [3, 4, 5]])"
      ]
     },
     "execution_count": 46,
     "metadata": {},
     "output_type": "execute_result"
    }
   ],
   "source": [
    "a = np.array([[0,1,2],\n",
    "[3,4,5]])\n",
    "b = np.array([[9],[10]])\n",
    "np.concatenate([a,b],1)\n",
    "a"
   ]
  },
  {
   "cell_type": "code",
   "execution_count": 50,
   "metadata": {},
   "outputs": [
    {
     "data": {
      "text/plain": [
       "(2, 3, 2)"
      ]
     },
     "execution_count": 50,
     "metadata": {},
     "output_type": "execute_result"
    }
   ],
   "source": [
    "np.stack([a.T , a.T+1]).shape"
   ]
  },
  {
   "cell_type": "code",
   "execution_count": 51,
   "metadata": {},
   "outputs": [],
   "source": [
    "import cv2"
   ]
  },
  {
   "cell_type": "code",
   "execution_count": 52,
   "metadata": {},
   "outputs": [
    {
     "data": {
      "text/plain": [
       "'3.4.9'"
      ]
     },
     "execution_count": 52,
     "metadata": {},
     "output_type": "execute_result"
    }
   ],
   "source": [
    "cv2.__version__"
   ]
  },
  {
   "cell_type": "code",
   "execution_count": 4,
   "metadata": {},
   "outputs": [
    {
     "data": {
      "text/plain": [
       "(478, 3)"
      ]
     },
     "execution_count": 4,
     "metadata": {},
     "output_type": "execute_result"
    }
   ],
   "source": [
    "from pathlib import Path\n",
    "import pandas as pd, numpy as np\n",
    "-np.ones((478,3))"
   ]
  },
  {
   "cell_type": "code",
   "execution_count": 3,
   "metadata": {},
   "outputs": [
    {
     "data": {
      "text/plain": [
       "array([[[ 0.5611136 ,  0.71059871, -0.04667135],\n",
       "        [ 0.56394976,  0.64846879, -0.06666785],\n",
       "        [ 0.56000954,  0.67279762, -0.04013636],\n",
       "        ...,\n",
       "        [ 0.6230697 ,  0.55399102,  0.03066162],\n",
       "        [ 0.60948241,  0.56562901,  0.03066162],\n",
       "        [ 0.619775  ,  0.58255666,  0.03066162]],\n",
       "\n",
       "       [[ 0.54293382,  0.69979221, -0.04585708],\n",
       "        [ 0.54676604,  0.63555318, -0.06539873],\n",
       "        [ 0.54454124,  0.66125584, -0.0393954 ],\n",
       "        ...,\n",
       "        [ 0.61013895,  0.54651564,  0.02845671],\n",
       "        [ 0.5962615 ,  0.55760485,  0.02845671],\n",
       "        [ 0.60697305,  0.57384688,  0.02845671]],\n",
       "\n",
       "       [[ 0.52122682,  0.69528329, -0.04703152],\n",
       "        [ 0.51860744,  0.6247068 , -0.06370761],\n",
       "        [ 0.51876062,  0.65236801, -0.03911404],\n",
       "        ...,\n",
       "        [ 0.59109581,  0.537328  ,  0.02256693],\n",
       "        [ 0.57615423,  0.54928827,  0.02256693],\n",
       "        [ 0.58812362,  0.56616104,  0.02256693]],\n",
       "\n",
       "       ...,\n",
       "\n",
       "       [[ 0.49077713,  0.69378161, -0.0503746 ],\n",
       "        [ 0.48637429,  0.62436855, -0.06170216],\n",
       "        [ 0.4895367 ,  0.65541714, -0.04014897],\n",
       "        ...,\n",
       "        [ 0.56477487,  0.53331155,  0.02032234],\n",
       "        [ 0.55117553,  0.54733014,  0.02032234],\n",
       "        [ 0.56311548,  0.56347358,  0.02032234]],\n",
       "\n",
       "       [[ 0.46844774,  0.70973694, -0.0479782 ],\n",
       "        [ 0.46314609,  0.64122063, -0.06179088],\n",
       "        [ 0.46805394,  0.66979623, -0.03926471],\n",
       "        ...,\n",
       "        [ 0.54352313,  0.53501141,  0.0158243 ],\n",
       "        [ 0.53211242,  0.55046642,  0.0158243 ],\n",
       "        [ 0.54454488,  0.56583834,  0.0158243 ]],\n",
       "\n",
       "       [[ 0.45730501,  0.74630052, -0.04586153],\n",
       "        [ 0.44426808,  0.67534363, -0.06581399],\n",
       "        [ 0.45124936,  0.70196831, -0.03913434],\n",
       "        ...,\n",
       "        [ 0.52597767,  0.55113882,  0.00664012],\n",
       "        [ 0.51399231,  0.56721652,  0.00664012],\n",
       "        [ 0.52724856,  0.58242095,  0.00664012]]])"
      ]
     },
     "execution_count": 3,
     "metadata": {},
     "output_type": "execute_result"
    }
   ],
   "source": [
    "pth = Path.cwd()/'data'\n",
    "trainx = np.load(pth/'trainx.npy')\n",
    "trainx"
   ]
  },
  {
   "cell_type": "code",
   "execution_count": 26,
   "metadata": {},
   "outputs": [
    {
     "data": {
      "text/plain": [
       "(14, 478, 3)"
      ]
     },
     "execution_count": 26,
     "metadata": {},
     "output_type": "execute_result"
    }
   ],
   "source": [
    "trainx.shape"
   ]
  },
  {
   "cell_type": "code",
   "execution_count": 1,
   "metadata": {},
   "outputs": [],
   "source": [
    "from pathlib import Path\n",
    "import pandas as pd, numpy as np\n",
    "import xarray as xr"
   ]
  },
  {
   "cell_type": "code",
   "execution_count": 4,
   "metadata": {},
   "outputs": [
    {
     "data": {
      "text/plain": [
       "(14, 478, 3)"
      ]
     },
     "execution_count": 4,
     "metadata": {},
     "output_type": "execute_result"
    }
   ],
   "source": [
    "trainx.shape"
   ]
  },
  {
   "cell_type": "code",
   "execution_count": null,
   "metadata": {},
   "outputs": [],
   "source": [
    "trainx = xr.DataArray(trainx,dims=())"
   ]
  },
  {
   "cell_type": "code",
   "execution_count": 27,
   "metadata": {},
   "outputs": [
    {
     "data": {
      "text/plain": [
       "array([[0.40834698, 0.3819169 , 0.39755693, ..., 0.40257411, 0.40192434,\n",
       "        0.41099776],\n",
       "       [0.39895632, 0.37230683, 0.38880056, ..., 0.3950371 , 0.39410769,\n",
       "        0.40309221],\n",
       "       [0.3898262 , 0.35986888, 0.3773382 , ..., 0.38366358, 0.38266981,\n",
       "        0.39228386],\n",
       "       ...,\n",
       "       [0.37806138, 0.34968023, 0.36826829, ..., 0.37280292, 0.37294267,\n",
       "        0.3823038 ],\n",
       "       [0.3767355 , 0.34752528, 0.36619515, ..., 0.36478628, 0.36613438,\n",
       "        0.37540251],\n",
       "       [0.38591467, 0.35126591, 0.37136111, ..., 0.3612522 , 0.36261632,\n",
       "        0.37210321]])"
      ]
     },
     "execution_count": 27,
     "metadata": {},
     "output_type": "execute_result"
    }
   ],
   "source": [
    "np.mean(trainx,axis=2)"
   ]
  },
  {
   "cell_type": "code",
   "execution_count": 19,
   "metadata": {},
   "outputs": [
    {
     "data": {
      "text/plain": [
       "[(3, 4), (5, 6), (array([1, 2]), 2)]"
      ]
     },
     "execution_count": 19,
     "metadata": {},
     "output_type": "execute_result"
    }
   ],
   "source": [
    "import random\n",
    "a = [(np.array([1,2]),2),\n",
    "(3,4),\n",
    "(5,6)]\n",
    "random.shuffle(a)\n",
    "a"
   ]
  },
  {
   "cell_type": "code",
   "execution_count": 7,
   "metadata": {},
   "outputs": [
    {
     "data": {
      "text/plain": [
       "array([[1, 2, 3, 4],\n",
       "       [7, 8, 7, 0]])"
      ]
     },
     "execution_count": 7,
     "metadata": {},
     "output_type": "execute_result"
    }
   ],
   "source": [
    "np.random.randint(10,size=(2,4))"
   ]
  },
  {
   "cell_type": "code",
   "execution_count": null,
   "metadata": {},
   "outputs": [],
   "source": [
    "conda create -n gaze -c conda-forge python=3.11\n",
    "conda install -c conda-forge opencv\n",
    "pip install mediapipe\n",
    "pip install pyautogui\n",
    "conda install -c conda-forge xarray"
   ]
  },
  {
   "cell_type": "code",
   "execution_count": null,
   "metadata": {},
   "outputs": [],
   "source": [
    "        frame = cv2.cvtColor(self.frame, cv2.COLOR_BGR2GRAY)\n",
    "        faces = self._face_detector(frame)\n",
    "\n",
    "        if len(faces):\n",
    "            landmarks = self._predictor(frame, faces[0])"
   ]
  }
 ],
 "metadata": {
  "kernelspec": {
   "display_name": "GazeTracking",
   "language": "python",
   "name": "python3"
  },
  "language_info": {
   "codemirror_mode": {
    "name": "ipython",
    "version": 3
   },
   "file_extension": ".py",
   "mimetype": "text/x-python",
   "name": "python",
   "nbconvert_exporter": "python",
   "pygments_lexer": "ipython3",
   "version": "3.11.7"
  }
 },
 "nbformat": 4,
 "nbformat_minor": 2
}
